{
 "cells": [
  {
   "cell_type": "code",
   "execution_count": 1,
   "metadata": {
    "collapsed": true
   },
   "outputs": [],
   "source": [
    "import numpy as np\n",
    "import matplotlib.pyplot as plt\n",
    "%matplotlib inline"
   ]
  },
  {
   "cell_type": "code",
   "execution_count": 2,
   "metadata": {
    "collapsed": true
   },
   "outputs": [],
   "source": [
    "import tensorflow as tf"
   ]
  },
  {
   "cell_type": "code",
   "execution_count": 3,
   "metadata": {
    "collapsed": true
   },
   "outputs": [],
   "source": [
    "tf.reset_default_graph() "
   ]
  },
  {
   "cell_type": "code",
   "execution_count": 4,
   "metadata": {},
   "outputs": [],
   "source": [
    "#Parameter\n",
    "num_inputs = 1024\n",
    "hidden1 = 256 \n",
    "hidden2 = 128\n",
    "hidden3 = 8\n",
    "hidden4 = 128\n",
    "hidden5 = 256\n",
    "output = 1024\n",
    "\n",
    "#activation function\n",
    "activate = tf.nn.relu\n",
    "\n",
    "#weight initializer\n",
    "initializer = tf.variance_scaling_initializer()\n",
    "\n",
    "#weight\n",
    "w1 = tf.Variable(initializer([num_inputs,hidden1]), dtype=tf.float32)\n",
    "w2 = tf.Variable(initializer([hidden1,hidden2]), dtype=tf.float32)\n",
    "w3 = tf.Variable(initializer([hidden2,hidden3]), dtype=tf.float32)\n",
    "w4 = tf.Variable(initializer([hidden3,hidden4]), dtype=tf.float32)\n",
    "w5 = tf.Variable(initializer([hidden4,hidden5]), dtype=tf.float32)\n",
    "w6 = tf.Variable(initializer([hidden5,output]), dtype=tf.float32)\n",
    "\n",
    "#bias\n",
    "b1 = tf.Variable(tf.zeros(hidden1))\n",
    "b2 = tf.Variable(tf.zeros(hidden2))\n",
    "b3 = tf.Variable(tf.zeros(hidden3))\n",
    "b4 = tf.Variable(tf.zeros(hidden4))\n",
    "b5 = tf.Variable(tf.zeros(hidden5))\n",
    "b6 = tf.Variable(tf.zeros(output))\n"
   ]
  },
  {
   "cell_type": "code",
   "execution_count": 5,
   "metadata": {
    "collapsed": true
   },
   "outputs": [],
   "source": [
    "#Placeholder\n",
    "X = tf.placeholder(tf.float32,shape=[None,num_inputs])"
   ]
  },
  {
   "cell_type": "code",
   "execution_count": 6,
   "metadata": {
    "collapsed": true
   },
   "outputs": [],
   "source": [
    "#Layer\n",
    "hid_layer1 = activate(tf.matmul(X , w1) + b1)\n",
    "hid_layer2 = activate(tf.matmul(hid_layer1,w2) + b2)\n",
    "hid_layer3 = activate(tf.matmul(hid_layer2,w3) + b3)\n",
    "hid_layer4 = activate(tf.matmul(hid_layer3,w4) + b4)\n",
    "hid_layer5 = activate(tf.matmul(hid_layer4,w5) + b5)\n",
    "output_layer = activate(tf.matmul(hid_layer5,w6) + b6)\n",
    "\n",
    "\n"
   ]
  },
  {
   "cell_type": "code",
   "execution_count": 7,
   "metadata": {},
   "outputs": [],
   "source": [
    "#loss function\n",
    "loss = tf.reduce_mean(tf.square(output_layer - X))\n",
    "#optimizer\n",
    "learning_rate = 0.01\n",
    "optimizer = tf.train.AdamOptimizer(learning_rate)"
   ]
  },
  {
   "cell_type": "code",
   "execution_count": 8,
   "metadata": {},
   "outputs": [],
   "source": [
    "train = optimizer.minimize(loss)"
   ]
  },
  {
   "cell_type": "code",
   "execution_count": 10,
   "metadata": {
    "collapsed": true
   },
   "outputs": [],
   "source": [
    "import json"
   ]
  },
  {
   "cell_type": "code",
   "execution_count": 65,
   "metadata": {},
   "outputs": [],
   "source": [
    "with open('songs.json',encoding='utf-8') as f:\n",
    "    data = json.load(f)\n",
    "for record in data:\n",
    "    record['waveMax'] = record['waveMax'] [1:][:-1]\n",
    "    record['waveMin'] = record['waveMin'] [1:][:-1]\n",
    "    waveMax = record['waveMax'].split(\",\")\n",
    "    waveMin = record['waveMin'].split(\",\")\n",
    "    if len(waveMax) == 1025:\n",
    "        waveMax.pop()\n",
    "        waveMin.pop()\n",
    "    for index, value in enumerate(waveMax):\n",
    "        value = (float(waveMin[index])+float(waveMax[index]) )\n",
    "        value /= 2\n",
    "        record['wave'] = value\n",
    "    "
   ]
  },
  {
   "cell_type": "markdown",
   "metadata": {},
   "source": [
    "### Training"
   ]
  },
  {
   "cell_type": "code",
   "execution_count": 14,
   "metadata": {
    "collapsed": true
   },
   "outputs": [],
   "source": [
    "init = tf.global_variables_initializer()"
   ]
  },
  {
   "cell_type": "code",
   "execution_count": 15,
   "metadata": {},
   "outputs": [],
   "source": [
    "from numpy import array"
   ]
  },
  {
   "cell_type": "code",
   "execution_count": 69,
   "metadata": {},
   "outputs": [],
   "source": [
    "test_arr1 = np.array(data[0]['wave'])\n",
    "test_arr2 = np.array(data[1]['wave'])\n",
    "# test_arr3 = np.concatenate((test_arr1,test_arr2),axis=0)\n",
    "test_arr4 = np.vstack((test_arr1,test_arr2))\n",
    "# test_arr1"
   ]
  },
  {
   "cell_type": "code",
   "execution_count": null,
   "metadata": {},
   "outputs": [],
   "source": [
    "all_data= np.array(data.pop()['wave'])\n",
    "all_data\n",
    "# for item in data:\n",
    "#     all_data = np.vstack\n",
    "    "
   ]
  },
  {
   "cell_type": "code",
   "execution_count": null,
   "metadata": {},
   "outputs": [],
   "source": []
  },
  {
   "cell_type": "code",
   "execution_count": 18,
   "metadata": {},
   "outputs": [
    {
     "name": "stdout",
     "output_type": "stream",
     "text": [
      "Training Loss: 4395033.0\n"
     ]
    }
   ],
   "source": [
    "num_epochs = 5\n",
    "\n",
    "with tf.Session() as sess:\n",
    "    sess.run(init)\n",
    "#     test_arr = array(record['waveMax'].split(\",\"))\n",
    "    sess.run(train,feed_dict={X:test_arr4})\n",
    "    training_loss = loss.eval(feed_dict={X: test_arr4})\n",
    "    print(\"Training Loss: {}\".format(training_loss))\n",
    "    "
   ]
  },
  {
   "cell_type": "code",
   "execution_count": null,
   "metadata": {},
   "outputs": [],
   "source": []
  }
 ],
 "metadata": {
  "kernelspec": {
   "display_name": "Python 3",
   "language": "python",
   "name": "python3"
  },
  "language_info": {
   "codemirror_mode": {
    "name": "ipython",
    "version": 3
   },
   "file_extension": ".py",
   "mimetype": "text/x-python",
   "name": "python",
   "nbconvert_exporter": "python",
   "pygments_lexer": "ipython3",
   "version": "3.5.4"
  }
 },
 "nbformat": 4,
 "nbformat_minor": 2
}
